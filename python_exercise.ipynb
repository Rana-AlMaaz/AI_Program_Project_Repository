{
 "cells": [
  {
   "cell_type": "markdown",
   "id": "069a5dab",
   "metadata": {},
   "source": [
    "Exercise 2 (Medium)\n",
    "Build a simple text analyzer.\n",
    "Problem:\n",
    "Write a function count_words(text) that:\n",
    "- Accepts a paragraph of text\n",
    "- Returns a dictionary where keys are words and values are how many times they appeared (case-insensitive)"
   ]
  },
  {
   "cell_type": "code",
   "execution_count": 5,
   "id": "d6e65014",
   "metadata": {},
   "outputs": [],
   "source": [
    "import string\n",
    "\n",
    "def text_analyzer(text):\n",
    "    word_count = {}\n",
    "    #remove punctuation\n",
    "    test_without_pun = text.translate(str.maketrans(\"\", \"\", string.punctuation))\n",
    "    #loop over the string (split() to get the words without spaces)\n",
    "    for word in test_without_pun.split():\n",
    "        lower_word = word.lower()\n",
    "        if lower_word in word_count:\n",
    "            word_count[lower_word] += 1\n",
    "        else:\n",
    "            word_count[lower_word] = 1\n",
    "    return word_count"
   ]
  },
  {
   "cell_type": "code",
   "execution_count": 6,
   "id": "9efa65cc",
   "metadata": {},
   "outputs": [
    {
     "data": {
      "text/plain": [
       "{'ai': 1, 'is': 2, 'the': 2, 'future': 2, 'now': 1}"
      ]
     },
     "execution_count": 6,
     "metadata": {},
     "output_type": "execute_result"
    }
   ],
   "source": [
    "text_analyzer(\"AI is the future. The future is now.\")"
   ]
  }
 ],
 "metadata": {
  "kernelspec": {
   "display_name": "projenv",
   "language": "python",
   "name": "python3"
  },
  "language_info": {
   "codemirror_mode": {
    "name": "ipython",
    "version": 3
   },
   "file_extension": ".py",
   "mimetype": "text/x-python",
   "name": "python",
   "nbconvert_exporter": "python",
   "pygments_lexer": "ipython3",
   "version": "3.10.0"
  }
 },
 "nbformat": 4,
 "nbformat_minor": 5
}
